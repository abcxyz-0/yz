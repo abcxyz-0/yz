{
 "cells": [
  {
   "cell_type": "markdown",
   "metadata": {},
   "source": [
    "Design RNN or its variant including LSTM or GRU a) Select a\n",
    "suitable time series dataset. Example – predict sentiments based on\n",
    "product reviews b) Apply for predict "
   ]
  },
  {
   "cell_type": "code",
   "execution_count": 2,
   "metadata": {},
   "outputs": [],
   "source": [
    "import tensorflow as tf\n",
    "from tensorflow.keras.datasets import imdb \n",
    "from tensorflow.keras.models import Sequential\n",
    "from tensorflow.keras.layers import Embedding, LSTM, Dense\n",
    "from tensorflow.keras.preprocessing.sequence import pad_sequences"
   ]
  },
  {
   "cell_type": "code",
   "execution_count": 3,
   "metadata": {},
   "outputs": [],
   "source": [
    "max_features = 10000 # Number of words to consider as features\n",
    "maxlen = 100 # Cut texts after this number of words (among top max_features most common words)\n",
    "batch_size = 32"
   ]
  },
  {
   "cell_type": "code",
   "execution_count": 4,
   "metadata": {},
   "outputs": [],
   "source": [
    "(x_train, y_train), (x_test, y_test) = imdb.load_data(num_words=max_features)"
   ]
  },
  {
   "cell_type": "code",
   "execution_count": 5,
   "metadata": {},
   "outputs": [],
   "source": [
    "x_train = pad_sequences(x_train, maxlen=maxlen) \n",
    "x_test = pad_sequences(x_test, maxlen=maxlen)\n",
    "# Build the RNN model with LSTM \n",
    "model = Sequential()\n",
    "model.add(Embedding(max_features, 128)) \n",
    "model.add(LSTM(64, dropout=0.2, recurrent_dropout=0.2)) \n",
    "model.add(Dense(1, activation='sigmoid'))\n"
   ]
  },
  {
   "cell_type": "code",
   "execution_count": 6,
   "metadata": {},
   "outputs": [
    {
     "name": "stdout",
     "output_type": "stream",
     "text": [
      "Epoch 1/5\n",
      "\u001b[1m782/782\u001b[0m \u001b[32m━━━━━━━━━━━━━━━━━━━━\u001b[0m\u001b[37m\u001b[0m \u001b[1m276s\u001b[0m 316ms/step - accuracy: 0.7228 - loss: 0.5379 - val_accuracy: 0.8359 - val_loss: 0.3764\n",
      "Epoch 2/5\n",
      "\u001b[1m782/782\u001b[0m \u001b[32m━━━━━━━━━━━━━━━━━━━━\u001b[0m\u001b[37m\u001b[0m \u001b[1m232s\u001b[0m 297ms/step - accuracy: 0.8644 - loss: 0.3318 - val_accuracy: 0.8235 - val_loss: 0.4212\n",
      "Epoch 3/5\n",
      "\u001b[1m782/782\u001b[0m \u001b[32m━━━━━━━━━━━━━━━━━━━━\u001b[0m\u001b[37m\u001b[0m \u001b[1m182s\u001b[0m 233ms/step - accuracy: 0.8876 - loss: 0.2810 - val_accuracy: 0.8368 - val_loss: 0.3847\n",
      "Epoch 4/5\n",
      "\u001b[1m782/782\u001b[0m \u001b[32m━━━━━━━━━━━━━━━━━━━━\u001b[0m\u001b[37m\u001b[0m \u001b[1m194s\u001b[0m 248ms/step - accuracy: 0.9138 - loss: 0.2215 - val_accuracy: 0.8452 - val_loss: 0.3988\n",
      "Epoch 5/5\n",
      "\u001b[1m782/782\u001b[0m \u001b[32m━━━━━━━━━━━━━━━━━━━━\u001b[0m\u001b[37m\u001b[0m \u001b[1m199s\u001b[0m 255ms/step - accuracy: 0.9373 - loss: 0.1709 - val_accuracy: 0.8450 - val_loss: 0.4071\n",
      "\u001b[1m782/782\u001b[0m \u001b[32m━━━━━━━━━━━━━━━━━━━━\u001b[0m\u001b[37m\u001b[0m \u001b[1m56s\u001b[0m 72ms/step - accuracy: 0.8433 - loss: 0.4164\n",
      "Test score: 0.40712305903434753\n",
      "Test accuracy: 0.8450400233268738\n"
     ]
    }
   ],
   "source": [
    "# Compile the model \n",
    "model.compile(loss='binary_crossentropy',optimizer='adam', metrics=['accuracy'])\n",
    "# Train the model \n",
    "model.fit(x_train, y_train,batch_size=batch_size, epochs=5, validation_data=(x_test, y_test))\n",
    "# Evaluate the model\n",
    "score, acc = model.evaluate(x_test, y_test, batch_size=batch_size) \n",
    "print(f'Test score: {score}')\n",
    "print(f'Test accuracy: {acc}')"
   ]
  },
  {
   "cell_type": "code",
   "execution_count": 8,
   "metadata": {},
   "outputs": [
    {
     "name": "stdout",
     "output_type": "stream",
     "text": [
      "\u001b[1m782/782\u001b[0m \u001b[32m━━━━━━━━━━━━━━━━━━━━\u001b[0m\u001b[37m\u001b[0m \u001b[1m57s\u001b[0m 72ms/step\n"
     ]
    }
   ],
   "source": [
    "import numpy as np\n",
    "# Predict sentiments\n",
    "predictions = model.predict(x_test)\n",
    "predicted_classes = (predictions > 0.5).astype(\"int32\")  # Adjust threshold if needed\n",
    "\n",
    "# Calculate percentage of positive and negative sentiments\n",
    "num_positive = np.sum(predicted_classes)\n",
    "num_negative = len(predicted_classes) - num_positive\n",
    "\n",
    "total = len(predicted_classes)\n",
    "percentage_positive = (num_positive / total) * 100\n",
    "percentage_negative = (num_negative / total) * 100"
   ]
  },
  {
   "cell_type": "code",
   "execution_count": 9,
   "metadata": {},
   "outputs": [
    {
     "name": "stdout",
     "output_type": "stream",
     "text": [
      "Percentage of Positive Sentiments: 51.456\n",
      "Percentage of Negative Sentiments: 48.544\n"
     ]
    }
   ],
   "source": [
    "print(\"Percentage of Positive Sentiments:\", percentage_positive)\n",
    "print(\"Percentage of Negative Sentiments:\", percentage_negative)"
   ]
  },
  {
   "cell_type": "code",
   "execution_count": null,
   "metadata": {},
   "outputs": [],
   "source": []
  }
 ],
 "metadata": {
  "kernelspec": {
   "display_name": "Python 3",
   "language": "python",
   "name": "python3"
  },
  "language_info": {
   "codemirror_mode": {
    "name": "ipython",
    "version": 3
   },
   "file_extension": ".py",
   "mimetype": "text/x-python",
   "name": "python",
   "nbconvert_exporter": "python",
   "pygments_lexer": "ipython3",
   "version": "3.9.16"
  }
 },
 "nbformat": 4,
 "nbformat_minor": 2
}
